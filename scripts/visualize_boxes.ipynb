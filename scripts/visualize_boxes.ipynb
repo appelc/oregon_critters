{
 "cells": [
  {
   "cell_type": "code",
   "execution_count": null,
   "metadata": {},
   "outputs": [],
   "source": [
    "#Notebook to visualize bounding boxes (input filename and box dimensions below)\n",
    "\n",
    "from PIL import Image, ImageDraw, ImageFont\n",
    "from IPython.display import display\n",
    "import os\n",
    "\n",
    "# Find the image directory (assumes this script is in /scripts/)\n",
    "current_directory = os.getcwd()\n",
    "parent_directory = os.path.dirname(current_directory)\n",
    "image_directory = os.path.join(parent_directory, 'data')\n",
    "print(image_directory)"
   ]
  },
  {
   "cell_type": "code",
   "execution_count": null,
   "metadata": {},
   "outputs": [],
   "source": [
    "# Run this chunk to define function to print box on an image\n",
    "def viz_box(image_name, box_coord, box_label):\n",
    "    image_path = image_directory + \"/\" + image_name\n",
    "    image = Image.open(image_path)\n",
    "    draw = ImageDraw.Draw(image)\n",
    "\n",
    "    # Customize font and fill color for the label text\n",
    "    label_fill = 'white'  \n",
    "\n",
    "    # Draw the bounding box\n",
    "    bbox = box_coord.strip('[]').split(',')\n",
    "    # Convert each string to a float\n",
    "    bbox = [float(item) for item in bbox]\n",
    "    \n",
    "    x1, y1, width, height = bbox\n",
    "    x2, y2 = x1 + width, y1 + height\n",
    "    draw.rectangle([x1, y1, x2, y2], outline='red', width=8)\n",
    "    \n",
    "    label_text = f\"{box_label}\"\n",
    "    \n",
    "    # Draw the textbox\n",
    "    label_bbox = draw.textbbox((x1, y1), label_text)\n",
    "    draw.rectangle(label_bbox, fill='red')\n",
    "\n",
    "    # Add label text\n",
    "    draw.text((label_bbox[0], label_bbox[1]), label_text, fill=label_fill)\n",
    "\n",
    "    display(image) "
   ]
  },
  {
   "cell_type": "code",
   "execution_count": null,
   "metadata": {},
   "outputs": [],
   "source": [
    "# Input your image file and bbox dimensions here to visualize\n",
    "\n",
    "image_name = 'test_image.jpg'\n",
    "\n",
    "box_coord = 'coord_x, coord_y, width, height'\n",
    "\n",
    "box_label = 'class_name'\n",
    "\n",
    "viz_box(image_name, box_coord, box_label)"
   ]
  }
 ],
 "metadata": {
  "kernelspec": {
   "display_name": "cv4e",
   "language": "python",
   "name": "python3"
  },
  "language_info": {
   "codemirror_mode": {
    "name": "ipython",
    "version": 3
   },
   "file_extension": ".py",
   "mimetype": "text/x-python",
   "name": "python",
   "nbconvert_exporter": "python",
   "pygments_lexer": "ipython3",
   "version": "3.8.17"
  },
  "orig_nbformat": 4
 },
 "nbformat": 4,
 "nbformat_minor": 2
}
